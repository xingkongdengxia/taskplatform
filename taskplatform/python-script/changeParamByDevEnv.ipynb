{
 "cells": [
  {
   "cell_type": "code",
   "execution_count": 1,
   "metadata": {},
   "outputs": [],
   "source": [
    "#根据开发环境，变更运行参数，主要是在252和笔记本之间切换\n",
    "import pymysql.cursors"
   ]
  },
  {
   "cell_type": "code",
   "execution_count": 2,
   "metadata": {},
   "outputs": [],
   "source": [
    "import os"
   ]
  },
  {
   "cell_type": "code",
   "execution_count": 3,
   "metadata": {},
   "outputs": [],
   "source": [
    "# 连接数据库taskplatform,修改本系统相关参数\n",
    "connect2 = pymysql.Connect(\n",
    "    host='10.0.3.252',\n",
    "    port=3306,\n",
    "    user='taskplatform',\n",
    "    passwd='123456',\n",
    "    db='taskplatform',\n",
    "    charset='utf8'\n",
    ")"
   ]
  },
  {
   "cell_type": "code",
   "execution_count": 4,
   "metadata": {},
   "outputs": [],
   "source": [
    "# 获取游标\n",
    "cursor2 = connect2.cursor()"
   ]
  },
  {
   "cell_type": "code",
   "execution_count": 5,
   "metadata": {},
   "outputs": [],
   "source": [
    "#1--笔记本，2--252(8082), 3--252(8080)(发布)\n",
    "devEnv=1\n",
    "\n",
    "if devEnv==1:\n",
    "    pass\n",
    "elif devEnv==2:\n",
    "    pass\n",
    "else:\n",
    "    pass\n",
    "\n",
    "if devEnv==1:\n",
    "    basepath = 'C:/Users/chc51/Documents/NetBeansProjects/taskplatform/src/main/resources/'\n",
    "elif devEnv==2:\n",
    "    basepath = '/home/justincai/NetBeansProjects/taskplatform/src/main/resources/'\n",
    "else:\n",
    "    basepath = '/home/justincai/NetBeansProjects/taskplatform/src/main/resources/'"
   ]
  },
  {
   "cell_type": "code",
   "execution_count": 6,
   "metadata": {},
   "outputs": [
    {
     "name": "stdout",
     "output_type": "stream",
     "text": [
      "成功修改 1 条数据\n"
     ]
    }
   ],
   "source": [
    "#修改upms_system\n",
    "sql = \"UPDATE upms_system SET basepath = '%s' WHERE system_id = 1 \"\n",
    "if devEnv==1:\n",
    "    data = ('http://localhost:8084/taskplatform')\n",
    "elif devEnv==2:\n",
    "    data = ('http://localhost:8082/taskplatform')\n",
    "else:\n",
    "    data = ('http://localhost')\n",
    "\n",
    "cursor2.execute(sql % data)\n",
    "connect2.commit()\n",
    "print('成功修改', cursor2.rowcount, '条数据')"
   ]
  },
  {
   "cell_type": "code",
   "execution_count": 7,
   "metadata": {},
   "outputs": [
    {
     "name": "stdout",
     "output_type": "stream",
     "text": [
      "C:/Users/chc51/Documents/NetBeansProjects/taskplatform/src/main/resources/log4j.properties\n",
      "['log4j.appender.log.File', 'C:/downloads/tomcat-logs/taskplatform.log']\n",
      "log4j.appender.log.File = C:/downloads/tomcat-logs/taskplatform.log\n",
      "\n",
      "['log4j.appender.errorlog.File', 'C:/downloads/tomcat-logs/taskplatform.error.log']\n",
      "log4j.appender.errorlog.File = C:/downloads/tomcat-logs/taskplatform.error.log\n",
      "\n"
     ]
    }
   ],
   "source": [
    "#修改log4j配置文件\n",
    "path = basepath + 'log4j.properties'\n",
    "print(path)\n",
    "with open(path) as f:\n",
    "    lines = [x for x in open(path)]\n",
    "\n",
    "newlines = []\n",
    "for line in lines:\n",
    "    if 'log4j.appender.log.File' in line :\n",
    "        pieces = [x.strip() for x in line.split('=')]\n",
    "        print(pieces)\n",
    "        #如果有#，表明已注释掉，跳过\n",
    "        if '#' in pieces[0] :\n",
    "            newlines.append(line)\n",
    "            continue\n",
    "        else :\n",
    "            if devEnv==1:\n",
    "                pieces[1] = 'C:/downloads/tomcat-logs/taskplatform.log'          \n",
    "            elif devEnv==2:\n",
    "                pieces[1] = '../logs/taskplatform.log'\n",
    "            else:\n",
    "                pieces[1] = '../logs/taskplatform.log'\n",
    "        \n",
    "        newline = pieces[0] + ' = ' + pieces[1] + '\\n'\n",
    "        print(newline)\n",
    "        newlines.append(newline)\n",
    "    elif 'log4j.appender.errorlog.File' in line :\n",
    "        pieces = [x.strip() for x in line.split('=')]\n",
    "        print(pieces)\n",
    "        #如果有#，表明已注释掉，跳过\n",
    "        if '#' in pieces[0] :\n",
    "            newlines.append(line)\n",
    "            continue\n",
    "        else :\n",
    "            if devEnv==1:\n",
    "                pieces[1] = 'C:/downloads/tomcat-logs/taskplatform.error.log'          \n",
    "            elif devEnv==2:\n",
    "                pieces[1] = '../logs/taskplatform.error.log'\n",
    "            else:\n",
    "                pieces[1] = '../logs/taskplatform.error.log'\n",
    "        \n",
    "        newline = pieces[0] + ' = ' + pieces[1] + '\\n'\n",
    "        print(newline)\n",
    "        newlines.append(newline)\n",
    "    else :\n",
    "        newlines.append(line)\n",
    "\n",
    "#print(newlines)\n",
    "if len(newlines)>0 :\n",
    "    os.remove(path)\n",
    "    with open(path, 'w') as handle:\n",
    "        handle.writelines(newlines)"
   ]
  },
  {
   "cell_type": "code",
   "execution_count": 8,
   "metadata": {},
   "outputs": [
    {
     "name": "stdout",
     "output_type": "stream",
     "text": [
      "C:/Users/chc51/Documents/NetBeansProjects/taskplatform/src/main/resources/jdbc.properties\n",
      "['master.jdbc.url', 'jdbc:mysql://10.0.3.252:3306/taskplatform?characterEncoding', 'utf8']\n",
      "master.jdbc.url = jdbc:mysql://10.0.3.252:3306/taskplatform?characterEncoding=utf8\n",
      "\n"
     ]
    }
   ],
   "source": [
    "#修改jdbc配置文件\n",
    "path = basepath + 'jdbc.properties'\n",
    "print(path)\n",
    "with open(path) as f:\n",
    "    lines = [x for x in open(path)]\n",
    "\n",
    "newlines = []\n",
    "for line in lines:\n",
    "    if 'master.jdbc.url' in line :\n",
    "        pieces = [x.strip() for x in line.split('=')]\n",
    "        print(pieces)\n",
    "        #如果有#，表明已注释掉，跳过\n",
    "        if '#' in pieces[0] :\n",
    "            newlines.append(line)\n",
    "            continue\n",
    "        else :\n",
    "            if devEnv==1:\n",
    "                pieces[1] = 'jdbc:mysql://10.0.3.252:3306/taskplatform?characterEncoding=utf8'          \n",
    "            elif devEnv==2:\n",
    "                pieces[1] = 'jdbc:mysql://localhost:3306/taskplatform?characterEncoding=utf8'\n",
    "            else:\n",
    "                pieces[1] = 'jdbc:mysql://localhost:3306/taskplatform?characterEncoding=utf8'\n",
    "        \n",
    "        newline = pieces[0] + ' = ' + pieces[1] + '\\n'\n",
    "        print(newline)\n",
    "        newlines.append(newline)\n",
    "    else :\n",
    "        newlines.append(line)\n",
    "\n",
    "#print(newlines)\n",
    "if len(newlines)>0 :\n",
    "    os.remove(path)\n",
    "    with open(path, 'w') as handle:\n",
    "        handle.writelines(newlines)"
   ]
  },
  {
   "cell_type": "code",
   "execution_count": 9,
   "metadata": {},
   "outputs": [
    {
     "name": "stdout",
     "output_type": "stream",
     "text": [
      "C:/Users/chc51/Documents/NetBeansProjects/taskplatform/src/main/resources/generator.properties\n",
      "['generator.jdbc.url', 'jdbc\\\\:mysql\\\\://10.0.3.252\\\\:3306/taskplatform?useUnicode\\\\', 'true&characterEncoding\\\\', 'utf-8&autoReconnect\\\\', 'true']\n",
      "generator.jdbc.url = jdbc\\:mysql\\://10.0.3.252\\:3306/taskplatform?useUnicode\\=true&characterEncoding\\=utf-8&autoReconnect\\=true\n",
      "\n"
     ]
    }
   ],
   "source": [
    "#修改generator配置文件\n",
    "path = basepath + 'generator.properties'\n",
    "print(path)\n",
    "with open(path) as f:\n",
    "    lines = [x for x in open(path)]\n",
    "\n",
    "newlines = []\n",
    "for line in lines:\n",
    "    if 'generator.jdbc.url' in line :\n",
    "        pieces = [x.strip() for x in line.split('=')]\n",
    "        print(pieces)\n",
    "        #如果有#，表明已注释掉，跳过\n",
    "        if '#' in pieces[0] :\n",
    "            newlines.append(line)\n",
    "            continue\n",
    "        else :\n",
    "            if devEnv==1:\n",
    "                pieces[1] = 'jdbc\\:mysql\\://10.0.3.252\\:3306/taskplatform?useUnicode\\=true&characterEncoding\\=utf-8&autoReconnect\\=true'          \n",
    "            elif devEnv==2:\n",
    "                pieces[1] = 'jdbc\\:mysql\\://localhost\\:3306/taskplatform?useUnicode\\=true&characterEncoding\\=utf-8&autoReconnect\\=true'\n",
    "            else:\n",
    "                pieces[1] = 'jdbc\\:mysql\\://localhost\\:3306/taskplatform?useUnicode\\=true&characterEncoding\\=utf-8&autoReconnect\\=true'\n",
    "        \n",
    "        newline = pieces[0] + ' = ' + pieces[1] + '\\n'\n",
    "        print(newline)\n",
    "        newlines.append(newline)\n",
    "    else :\n",
    "        newlines.append(line)\n",
    "\n",
    "#print(newlines)\n",
    "if len(newlines)>0 :\n",
    "    os.remove(path)\n",
    "    with open(path, 'w') as handle:\n",
    "        handle.writelines(newlines)  "
   ]
  },
  {
   "cell_type": "code",
   "execution_count": 10,
   "metadata": {},
   "outputs": [
    {
     "name": "stdout",
     "output_type": "stream",
     "text": [
      "C:/Users/chc51/Documents/NetBeansProjects/taskplatform/src/main/resources/upms-client.properties\n",
      "['upms.sso.server.url', 'http://localhost:8084/taskplatform']\n",
      "upms.sso.server.url = http://localhost:8084/taskplatform\n",
      "\n"
     ]
    }
   ],
   "source": [
    "#修改upms-client配置文件\n",
    "path = basepath + 'upms-client.properties'\n",
    "print(path)\n",
    "with open(path) as f:\n",
    "    lines = [x for x in open(path)]\n",
    "\n",
    "newlines = []\n",
    "for line in lines:\n",
    "    if 'upms.sso.server.url' in line :\n",
    "        pieces = [x.strip() for x in line.split('=')]\n",
    "        print(pieces)\n",
    "        #如果有#，表明已注释掉，跳过\n",
    "        if '#' in pieces[0] :\n",
    "            newlines.append(line)\n",
    "            continue\n",
    "        else :\n",
    "            if devEnv==1:\n",
    "                pieces[1] = 'http://localhost:8084/taskplatform'          \n",
    "            elif devEnv==2:\n",
    "                pieces[1] = 'http://10.0.3.252:8080/smgupms'\n",
    "            else:\n",
    "                pieces[1] = 'taskplatform.shanghairongxuan.com'\n",
    "        \n",
    "        newline = pieces[0] + ' = ' + pieces[1] + '\\n'\n",
    "        print(newline)\n",
    "        newlines.append(newline)\n",
    "    else :\n",
    "        newlines.append(line)\n",
    "\n",
    "#print(newlines)\n",
    "if len(newlines)>0 :\n",
    "    os.remove(path)\n",
    "    with open(path, 'w') as handle:\n",
    "        handle.writelines(newlines)  "
   ]
  },
  {
   "cell_type": "code",
   "execution_count": 11,
   "metadata": {},
   "outputs": [
    {
     "name": "stdout",
     "output_type": "stream",
     "text": [
      "C:/Users/chc51/Documents/NetBeansProjects/taskplatform/src/main/resources/config.properties\n",
      "['uploadfile.basepath', 'C:/downloads/tomcat-logs']\n",
      "uploadfile.basepath = C:/downloads/tomcat-logs\n",
      "\n",
      "['#dubbo.cache\\\\u5b58\\\\u653e\\\\u76ee\\\\u5f55']\n",
      "['dubbo.cache', 'C:/downloads/tomcat-logs']\n",
      "dubbo.cache = C:/downloads/tomcat-logs\n",
      "\n"
     ]
    }
   ],
   "source": [
    "#修改config配置文件\n",
    "path = basepath + 'config.properties'\n",
    "print(path)\n",
    "with open(path) as f:\n",
    "    lines = [x for x in open(path)]\n",
    "\n",
    "newlines = []\n",
    "for line in lines:\n",
    "    if 'uploadfile.basepath' in line :\n",
    "        pieces = [x.strip() for x in line.split('=')]\n",
    "        print(pieces)\n",
    "        #如果有#，表明已注释掉，跳过\n",
    "        if '#' in pieces[0] :\n",
    "            newlines.append(line)\n",
    "            continue\n",
    "        else :\n",
    "            if devEnv==1:\n",
    "                pieces[1] = 'C:/downloads/tomcat-logs'          \n",
    "            elif devEnv==2:\n",
    "                pieces[1] = '/var/projectupload'\n",
    "            else:\n",
    "                pieces[1] = '/var/projectupload'\n",
    "        \n",
    "        newline = pieces[0] + ' = ' + pieces[1] + '\\n'\n",
    "        print(newline)\n",
    "        newlines.append(newline)\n",
    "    elif 'dubbo.cache' in line :\n",
    "        pieces = [x.strip() for x in line.split('=')]\n",
    "        print(pieces)\n",
    "        #如果有#，表明已注释掉，跳过\n",
    "        if '#' in pieces[0] :\n",
    "            newlines.append(line)\n",
    "            continue\n",
    "        else :\n",
    "            if devEnv==1:\n",
    "                pieces[1] = 'C:/downloads/tomcat-logs'          \n",
    "            elif devEnv==2:\n",
    "                pieces[1] = '..'\n",
    "            else:\n",
    "                pieces[1] = '..'\n",
    "        \n",
    "        newline = pieces[0] + ' = ' + pieces[1] + '\\n'\n",
    "        print(newline)\n",
    "        newlines.append(newline)\n",
    "    else :\n",
    "        newlines.append(line)\n",
    "\n",
    "#print(newlines)\n",
    "if len(newlines)>0 :\n",
    "    os.remove(path)\n",
    "    with open(path, 'w') as handle:\n",
    "        handle.writelines(newlines)  "
   ]
  },
  {
   "cell_type": "code",
   "execution_count": 12,
   "metadata": {},
   "outputs": [],
   "source": [
    "# 关闭连接\n",
    "cursor2.close()\n",
    "connect2.close()"
   ]
  },
  {
   "cell_type": "code",
   "execution_count": null,
   "metadata": {},
   "outputs": [],
   "source": []
  }
 ],
 "metadata": {
  "kernelspec": {
   "display_name": "Python 3",
   "language": "python",
   "name": "python3"
  },
  "language_info": {
   "codemirror_mode": {
    "name": "ipython",
    "version": 3
   },
   "file_extension": ".py",
   "mimetype": "text/x-python",
   "name": "python",
   "nbconvert_exporter": "python",
   "pygments_lexer": "ipython3",
   "version": "3.6.4"
  }
 },
 "nbformat": 4,
 "nbformat_minor": 2
}
